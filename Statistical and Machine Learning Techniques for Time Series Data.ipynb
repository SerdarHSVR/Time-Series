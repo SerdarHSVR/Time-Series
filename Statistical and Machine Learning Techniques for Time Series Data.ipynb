{
  "nbformat": 4,
  "nbformat_minor": 0,
  "metadata": {
    "colab": {
      "provenance": []
    },
    "kernelspec": {
      "name": "python3",
      "display_name": "Python 3"
    },
    "language_info": {
      "name": "python"
    }
  },
  "cells": [
    {
      "cell_type": "markdown",
      "source": [
        "[![Open in Colab](https://colab.research.google.com/assets/colab-badge.svg)](https://colab.research.google.com/github/y-akbal/Tedu_Time_Series/blob/main/W5/HW3.ipynb)"
      ],
      "metadata": {
        "id": "tC7K0tgoa59g"
      }
    },
    {
      "cell_type": "markdown",
      "source": [
        "###Run the below cells, there are some functions to be used!"
      ],
      "metadata": {
        "id": "O1kbL42aiH5-"
      }
    },
    {
      "cell_type": "code",
      "execution_count": 28,
      "metadata": {
        "id": "lAomyHkC4vQW"
      },
      "outputs": [],
      "source": [
        "import numpy as np\n",
        "import scipy as sp\n",
        "import statsmodels\n",
        "import pandas as pd\n",
        "from matplotlib import pyplot as plt"
      ]
    },
    {
      "cell_type": "code",
      "source": [
        "!apt-get install r-base\n",
        "!pip install rpy2\n",
        "###Above we are pip installing a bridge between r and pyhton\n",
        "import rpy2 # import rpy2's package module\n",
        "from rpy2.robjects.packages import importr\n",
        "utils = importr('utils')\n",
        "import rpy2.robjects.packages as rpackages\n",
        "utils.install_packages(\"TSA\")\n",
        "# import R's utility package\n",
        "utils = rpackages.importr('TSA')  ### Time series analysis lib. is to be imported\n",
        "import rpy2.robjects as robjects\n",
        "r = robjects.r\n",
        "from rpy2.robjects import r, pandas2ri\n",
        "pandas2ri.activate()"
      ],
      "metadata": {
        "id": "s47pX0whIACg",
        "colab": {
          "base_uri": "https://localhost:8080/"
        },
        "outputId": "b7226c64-d3af-49f4-f9c0-00e6c9152d8d"
      },
      "execution_count": 29,
      "outputs": [
        {
          "output_type": "stream",
          "name": "stdout",
          "text": [
            "Reading package lists... Done\n",
            "Building dependency tree... Done\n",
            "Reading state information... Done\n",
            "r-base is already the newest version (4.4.1-3.2204.0).\n",
            "0 upgraded, 0 newly installed, 0 to remove and 49 not upgraded.\n",
            "Requirement already satisfied: rpy2 in /usr/local/lib/python3.10/dist-packages (3.4.2)\n",
            "Requirement already satisfied: cffi>=1.10.0 in /usr/local/lib/python3.10/dist-packages (from rpy2) (1.17.1)\n",
            "Requirement already satisfied: jinja2 in /usr/local/lib/python3.10/dist-packages (from rpy2) (3.1.4)\n",
            "Requirement already satisfied: pytz in /usr/local/lib/python3.10/dist-packages (from rpy2) (2024.2)\n",
            "Requirement already satisfied: tzlocal in /usr/local/lib/python3.10/dist-packages (from rpy2) (5.2)\n",
            "Requirement already satisfied: pycparser in /usr/local/lib/python3.10/dist-packages (from cffi>=1.10.0->rpy2) (2.22)\n",
            "Requirement already satisfied: MarkupSafe>=2.0 in /usr/local/lib/python3.10/dist-packages (from jinja2->rpy2) (3.0.2)\n"
          ]
        },
        {
          "output_type": "stream",
          "name": "stderr",
          "text": [
            "WARNING:rpy2.rinterface_lib.callbacks:R[write to console]: Installing package into ‘/usr/local/lib/R/site-library’\n",
            "(as ‘lib’ is unspecified)\n",
            "\n",
            "WARNING:rpy2.rinterface_lib.callbacks:R[write to console]: trying URL 'https://cran.rstudio.com/src/contrib/TSA_1.3.1.tar.gz'\n",
            "\n",
            "WARNING:rpy2.rinterface_lib.callbacks:R[write to console]: Content type 'application/x-gzip'\n",
            "WARNING:rpy2.rinterface_lib.callbacks:R[write to console]:  length 207505 bytes (202 KB)\n",
            "\n",
            "WARNING:rpy2.rinterface_lib.callbacks:R[write to console]: =\n",
            "WARNING:rpy2.rinterface_lib.callbacks:R[write to console]: =\n",
            "WARNING:rpy2.rinterface_lib.callbacks:R[write to console]: =\n",
            "WARNING:rpy2.rinterface_lib.callbacks:R[write to console]: =\n",
            "WARNING:rpy2.rinterface_lib.callbacks:R[write to console]: =\n",
            "WARNING:rpy2.rinterface_lib.callbacks:R[write to console]: =\n",
            "WARNING:rpy2.rinterface_lib.callbacks:R[write to console]: =\n",
            "WARNING:rpy2.rinterface_lib.callbacks:R[write to console]: =\n",
            "WARNING:rpy2.rinterface_lib.callbacks:R[write to console]: =\n",
            "WARNING:rpy2.rinterface_lib.callbacks:R[write to console]: =\n",
            "WARNING:rpy2.rinterface_lib.callbacks:R[write to console]: =\n",
            "WARNING:rpy2.rinterface_lib.callbacks:R[write to console]: =\n",
            "WARNING:rpy2.rinterface_lib.callbacks:R[write to console]: =\n",
            "WARNING:rpy2.rinterface_lib.callbacks:R[write to console]: =\n",
            "WARNING:rpy2.rinterface_lib.callbacks:R[write to console]: =\n",
            "WARNING:rpy2.rinterface_lib.callbacks:R[write to console]: =\n",
            "WARNING:rpy2.rinterface_lib.callbacks:R[write to console]: =\n",
            "WARNING:rpy2.rinterface_lib.callbacks:R[write to console]: =\n",
            "WARNING:rpy2.rinterface_lib.callbacks:R[write to console]: =\n",
            "WARNING:rpy2.rinterface_lib.callbacks:R[write to console]: =\n",
            "WARNING:rpy2.rinterface_lib.callbacks:R[write to console]: =\n",
            "WARNING:rpy2.rinterface_lib.callbacks:R[write to console]: =\n",
            "WARNING:rpy2.rinterface_lib.callbacks:R[write to console]: =\n",
            "WARNING:rpy2.rinterface_lib.callbacks:R[write to console]: =\n",
            "WARNING:rpy2.rinterface_lib.callbacks:R[write to console]: =\n",
            "WARNING:rpy2.rinterface_lib.callbacks:R[write to console]: =\n",
            "WARNING:rpy2.rinterface_lib.callbacks:R[write to console]: =\n",
            "WARNING:rpy2.rinterface_lib.callbacks:R[write to console]: =\n",
            "WARNING:rpy2.rinterface_lib.callbacks:R[write to console]: =\n",
            "WARNING:rpy2.rinterface_lib.callbacks:R[write to console]: =\n",
            "WARNING:rpy2.rinterface_lib.callbacks:R[write to console]: =\n",
            "WARNING:rpy2.rinterface_lib.callbacks:R[write to console]: =\n",
            "WARNING:rpy2.rinterface_lib.callbacks:R[write to console]: =\n",
            "WARNING:rpy2.rinterface_lib.callbacks:R[write to console]: =\n",
            "WARNING:rpy2.rinterface_lib.callbacks:R[write to console]: =\n",
            "WARNING:rpy2.rinterface_lib.callbacks:R[write to console]: =\n",
            "WARNING:rpy2.rinterface_lib.callbacks:R[write to console]: =\n",
            "WARNING:rpy2.rinterface_lib.callbacks:R[write to console]: =\n",
            "WARNING:rpy2.rinterface_lib.callbacks:R[write to console]: =\n",
            "WARNING:rpy2.rinterface_lib.callbacks:R[write to console]: =\n",
            "WARNING:rpy2.rinterface_lib.callbacks:R[write to console]: =\n",
            "WARNING:rpy2.rinterface_lib.callbacks:R[write to console]: =\n",
            "WARNING:rpy2.rinterface_lib.callbacks:R[write to console]: =\n",
            "WARNING:rpy2.rinterface_lib.callbacks:R[write to console]: =\n",
            "WARNING:rpy2.rinterface_lib.callbacks:R[write to console]: =\n",
            "WARNING:rpy2.rinterface_lib.callbacks:R[write to console]: =\n",
            "WARNING:rpy2.rinterface_lib.callbacks:R[write to console]: =\n",
            "WARNING:rpy2.rinterface_lib.callbacks:R[write to console]: =\n",
            "WARNING:rpy2.rinterface_lib.callbacks:R[write to console]: =\n",
            "WARNING:rpy2.rinterface_lib.callbacks:R[write to console]: =\n",
            "WARNING:rpy2.rinterface_lib.callbacks:R[write to console]: \n",
            "\n",
            "WARNING:rpy2.rinterface_lib.callbacks:R[write to console]: downloaded 202 KB\n",
            "\n",
            "\n",
            "WARNING:rpy2.rinterface_lib.callbacks:R[write to console]: \n",
            "\n",
            "WARNING:rpy2.rinterface_lib.callbacks:R[write to console]: \n",
            "WARNING:rpy2.rinterface_lib.callbacks:R[write to console]: The downloaded source packages are in\n",
            "\t‘/tmp/RtmpjmfxO9/downloaded_packages’\n",
            "WARNING:rpy2.rinterface_lib.callbacks:R[write to console]: \n",
            "WARNING:rpy2.rinterface_lib.callbacks:R[write to console]: \n",
            "\n"
          ]
        }
      ]
    },
    {
      "cell_type": "markdown",
      "source": [
        "#The following function downloads the data set that you will experiment with! The file will be downloaded directly as a csv file, so you do not need call any other function except pd.read_csv (google this)."
      ],
      "metadata": {
        "id": "ocuI7iKYX3vj"
      }
    },
    {
      "cell_type": "code",
      "source": [
        "def download_ts():  ### This dude will download the dataset from the directory directly!\n",
        "  import requests\n",
        "  url = \"https://raw.githubusercontent.com/y-akbal/Tedu_Time_Series/main/W5/data_setforHW3.csv\"\n",
        "  res = requests.get(url, allow_redirects=True)\n",
        "  with open('data_setforHW3.csv','wb') as file:\n",
        "    file.write(res.content)\n",
        "  print(\"Dataset downloaded!\")\n",
        "download_ts()"
      ],
      "metadata": {
        "id": "3eRzVAZ5a1jm",
        "colab": {
          "base_uri": "https://localhost:8080/"
        },
        "outputId": "7dcbf931-a6a5-4ccd-ba47-a84162e1871d"
      },
      "execution_count": 30,
      "outputs": [
        {
          "output_type": "stream",
          "name": "stdout",
          "text": [
            "Dataset downloaded!\n"
          ]
        }
      ]
    },
    {
      "cell_type": "code",
      "source": [
        "data = pd.read_csv(\"data_setforHW3.csv\")  #### do not forget to pick the right column here! hint: iloc"
      ],
      "metadata": {
        "id": "P7JQ_jlRa1oE"
      },
      "execution_count": 31,
      "outputs": []
    },
    {
      "cell_type": "code",
      "source": [
        "def see_significance_values(x = None): ### we will use this function for illustration purpossses.\n",
        "  print(pd.DataFrame(np.array(list(x.items())[0][1])))"
      ],
      "metadata": {
        "id": "M1KLDqMFgAT-"
      },
      "execution_count": 32,
      "outputs": []
    },
    {
      "cell_type": "markdown",
      "source": [
        "#Things to do:\n",
        "\n",
        "1.   Sketch the series, and see if something is wrong use: plt.plot,\n",
        "2.   Use extended autocorrelation function to see which orders of AR and MA you will pick.  For this you need to look at last week's lab files to sketch eacf table. Examine eacf table carefully!, call your extended autocorrelation function m as we did in labs, and call the function see_significance_values(m), to do comparison.\n",
        "3. Fit the model with the ar-ma orders that you come up with.\n",
        "4. Justify your answer by a) comparing in sample predictions and the real time series  b) performing Ljhung-Box test the see if residuals exhibit some serial correlation (do not forget to set model_df = ar_order + ma_order that you have picked!)."
      ],
      "metadata": {
        "id": "SGp8Bp92YFGZ"
      }
    },
    {
      "cell_type": "code",
      "source": [
        "from statsmodels.graphics.tsaplots import plot_acf, plot_pacf\n",
        "from statsmodels.stats.diagnostic import acorr_ljungbox\n",
        "from statsmodels.tsa.arima.model import ARIMA\n",
        "\n",
        "r('if(!require(TSA)){install.packages(\"TSA\")}')\n",
        "r('library(TSA)')\n",
        "\n",
        "data = pd.read_csv(\"data_setforHW3.csv\")\n",
        "print(data.head())\n",
        "\n",
        "time_series_data = pd.to_numeric(data.iloc[:, 0], errors='coerce').dropna()\n",
        "print(\"Time series data shape:\", time_series_data.shape)\n",
        "\n",
        "plt.plot(time_series_data)\n",
        "plt.title(\"Time Series Data\")\n",
        "plt.xlabel(\"Time\")\n",
        "plt.ylabel(\"Values\")\n",
        "plt.show()\n",
        "\n",
        "r_time_series = pandas2ri.py2rpy(time_series_data)\n",
        "\n",
        "robjects.globalenv['r_time_series'] = r_time_series\n",
        "r('print(r_time_series)')\n",
        "\n",
        "try:\n",
        "    r('r_time_series <- ts(r_time_series)')\n",
        "except Exception as e:\n",
        "    print(\"Error converting to time series:\", e)\n",
        "\n",
        "try:\n",
        "    r('eacf_table <- eacf(r_time_series)')\n",
        "    m = r('eacf_table')\n",
        "    see_significance_values(x=m)\n",
        "except Exception as e:\n",
        "    print(\"Error calculating EACF:\", e)\n",
        "\n",
        "ar_order = 1\n",
        "ma_order = 1\n",
        "\n",
        "if len(time_series_data) > 0:\n",
        "    model = ARIMA(time_series_data, order=(ar_order, 0, ma_order))\n",
        "    model_fit = model.fit()\n",
        "    print(model_fit.summary())\n",
        "\n",
        "    plt.plot(time_series_data, label=\"Actual\")\n",
        "    plt.plot(model_fit.fittedvalues, color=\"red\", label=\"Fitted\")\n",
        "    plt.legend()\n",
        "    plt.title(\"In-Sample Predictions vs Actual\")\n",
        "    plt.show()\n",
        "\n",
        "    lb_test = acorr_ljungbox(model_fit.resid, lags=[10], model_df=ar_order + ma_order)\n",
        "    print(\"Ljung-Box Test Results:\")\n",
        "    print(lb_test)\n",
        "else:\n",
        "    print(\"time_series_data is empty. Skipping ARIMA model fitting.\")\n"
      ],
      "metadata": {
        "id": "tYQ_pCbwgyZk",
        "colab": {
          "base_uri": "https://localhost:8080/",
          "height": 784
        },
        "outputId": "2695cd04-a6d0-4e64-e00e-6374dfd757e9"
      },
      "execution_count": 44,
      "outputs": [
        {
          "output_type": "stream",
          "name": "stdout",
          "text": [
            "Empty DataFrame\n",
            "Columns: [404: Not Found]\n",
            "Index: []\n",
            "Time series data shape: (0,)\n"
          ]
        },
        {
          "output_type": "display_data",
          "data": {
            "text/plain": [
              "<Figure size 640x480 with 1 Axes>"
            ],
            "image/png": "[encoded data removed]"
          },
          "metadata": {}
        },
        {
          "output_type": "stream",
          "name": "stdout",
          "text": [
            "named integer(0)\n"
          ]
        },
        {
          "output_type": "stream",
          "name": "stderr",
          "text": [
            "WARNING:rpy2.rinterface_lib.callbacks:R[write to console]: Error in ts(r_time_series) : \n",
            "  'ts' object must have one or more observations\n",
            "\n",
            "WARNING:rpy2.rinterface_lib.callbacks:R[write to console]: Error in z[1:(length(z) - lag)] : \n",
            "  only 0's may be mixed with negative subscripts\n",
            "\n"
          ]
        },
        {
          "output_type": "stream",
          "name": "stdout",
          "text": [
            "Error converting to time series: Error in ts(r_time_series) : \n",
            "  'ts' object must have one or more observations\n",
            "\n",
            "Error calculating EACF: Error in z[1:(length(z) - lag)] : \n",
            "  only 0's may be mixed with negative subscripts\n",
            "\n",
            "time_series_data is empty. Skipping ARIMA model fitting.\n"
          ]
        }
      ]
    },
    {
      "cell_type": "markdown",
      "source": [
        "###Congrats!!!, you reached the end of HW3, now go to File-> Download -> Download .ipynb.\n",
        "##Save the file and upload it to LMS system. Grab a cup of coffee, and do some la dolce vita."
      ],
      "metadata": {
        "id": "R8wEkiWlhcJY"
      }
    }
  ]
}